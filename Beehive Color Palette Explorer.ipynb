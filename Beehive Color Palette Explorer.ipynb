{
 "cells": [
  {
   "cell_type": "markdown",
   "id": "5d7d7337",
   "metadata": {},
   "source": [
    "# Beehive Color Palette Explorer\n",
    "\n",
    "This is the exploratory notebook for the workflow in my Beehive Photos with AI insights and color palette selector for my Blog Series. \n",
    "\n",
    "Follow this link to the chat:\n",
    "*ADD CONVO LINK HERE*. \n",
    "\n",
    "\n",
    "**Code Logic:**  \n",
    "1. Extract dominant colors from an image\n",
    "2. Convert colors to HEX\n",
    "3. Append new row to hive_color_log.csv\n",
    "4. If the file doesn’t exist, create it with headers\n",
    "\n"
   ]
  },
  {
   "cell_type": "code",
   "execution_count": 38,
   "id": "461b19d8",
   "metadata": {},
   "outputs": [],
   "source": [
    "from colorthief import ColorThief\n",
    "from PIL import Image, ExifTags\n",
    "import matplotlib.pyplot as plt\n",
    "import tempfile\n",
    "\n",
    "# Extract EXIF camera data\n",
    "def extract_exif(image_file):\n",
    "    img = Image.open(image_file)\n",
    "    exif_data = {}\n",
    "    if hasattr(img, '_getexif') and img._getexif() is not None:\n",
    "        exif = img._getexif()\n",
    "        for tag, value in exif.items():\n",
    "            decoded = ExifTags.TAGS.get(tag, tag)\n",
    "            exif_data[decoded] = value\n",
    "    return exif_data\n",
    "\n",
    "# Color Palette\n",
    "def get_palette(image_file, color_count=5):\n",
    "    with open(image_file, 'rb') as f:\n",
    "        color_thief = ColorThief(f)\n",
    "        palette = color_thief.get_palette(color_count=color_count)\n",
    "        return palette\n",
    "    \n",
    "# Plot dominant colors\n",
    "def plot_palette(palette):\n",
    "    plt.figure(figsize=(8, 2))\n",
    "    for i, color in enumerate(palette):\n",
    "        plt.fill_between([i, i+1], 0, 1, color=[c/255 for c in color])\n",
    "    plt.xlim(0, len(palette))\n",
    "    plt.yticks([])\n",
    "    plt.title(\"Dominant Colors from Hive Photo\")\n",
    "    plt.show()\n",
    "\n",
    "# Conversion function for rgb to hex\n",
    "def rgb_to_hex(rgb):\n",
    "    return '#%02x%02x%02x' % rgb\n",
    "\n",
    "\n",
    "def get_file_creation_date(filepath):\n",
    "    try:\n",
    "        timestamp = os.path.getctime(filepath)\n",
    "        return datetime.fromtimestamp(timestamp).strftime(\"%Y-%m-%d %H:%M:%S\")\n",
    "    except:\n",
    "        return \"Unknown\"\n",
    "    \n",
    "    "
   ]
  },
  {
   "cell_type": "code",
   "execution_count": 16,
   "id": "ed0ec801",
   "metadata": {},
   "outputs": [],
   "source": [
    "import csv\n",
    "import os\n",
    "from datetime import datetime\n",
    "\n",
    "def save_color_log(image_path, palette, dominant_color, notes=\"\"):\n",
    "    log_file = \"hive_color_log.csv\"\n",
    "    hex_palette = [rgb_to_hex(c) for c in palette]\n",
    "    hex_dominant = rgb_to_hex(dominant_color)\n",
    "    today = datetime.now().strftime(\"%Y-%m-%d\")\n",
    "    image_name = os.path.basename(image_path)\n",
    "    \n",
    "    row = [today, image_name, hex_dominant] + hex_palette + [notes]\n",
    "    headers = [\"Date\", \"Image Name\", \"Dominant Color\"] + [f\"Palette {i+1}\" for i in range(len(hex_palette))] + [\"Notes\"]\n",
    "\n",
    "    file_exists = os.path.isfile(log_file)\n",
    "\n",
    "    with open(log_file, \"a\", newline='') as f:\n",
    "        writer = csv.writer(f)\n",
    "        if not file_exists:\n",
    "            writer.writerow(headers)\n",
    "        writer.writerow(row)\n",
    "\n",
    "    print(f\"Saved color info for {image_name} to {log_file}\")\n"
   ]
  },
  {
   "cell_type": "markdown",
   "id": "70843868",
   "metadata": {},
   "source": [
    "---"
   ]
  },
  {
   "cell_type": "code",
   "execution_count": 18,
   "id": "6323a232",
   "metadata": {},
   "outputs": [],
   "source": [
    "# Upload your hive image\n",
    "FILEPATH = \"my_hive_photo.jpg\"  # Change this to your actual file path\n"
   ]
  },
  {
   "cell_type": "code",
   "execution_count": 19,
   "id": "2c84d5aa",
   "metadata": {},
   "outputs": [],
   "source": [
    "# Load image and extract palette\n",
    "color_thief = ColorThief(FILEPATH)\n",
    "dominant_color = color_thief.get_color(quality=1)\n",
    "palette = color_thief.get_palette(color_count=6)\n",
    "hex_palette = [rgb_to_hex(c) for c in palette]\n"
   ]
  },
  {
   "cell_type": "code",
   "execution_count": 20,
   "id": "16c43e7c",
   "metadata": {},
   "outputs": [
    {
     "name": "stdout",
     "output_type": "stream",
     "text": [
      "['#877044', '#2b1c0c', '#dbe2a3', '#abaeb5', '#cfb36a', '#48290c']\n",
      "Dominant Color (RGB): (133, 110, 66)\n"
     ]
    },
    {
     "data": {
      "image/png": "[encoded data removed]",
      "text/plain": [
       "<Figure size 800x200 with 1 Axes>"
      ]
     },
     "metadata": {},
     "output_type": "display_data"
    }
   ],
   "source": [
    "print(hex_palette)\n",
    "print(\"Dominant Color (RGB):\", dominant_color)\n",
    "plot_palette(palette)"
   ]
  },
  {
   "cell_type": "markdown",
   "id": "33360cb7",
   "metadata": {},
   "source": [
    "## Auto-Save: Building a Hive Color Log Over Time\n",
    "\n",
    "**Purpose:**. \n",
    "Automatically save each photo's:\n",
    "* Filename / date\n",
    "* Top 5 colors (RGB + HEX)\n",
    "* Any optional notes into a single .csv file so you can:\n",
    "* Track seasonal trends\n",
    "* See how your hive's visual appearance evolves\n",
    "* Use the data for later visualizations or blog posts\n",
    "\n",
    "CSV Format Example:\n",
    "Date\tImage Name\tDominant Color\tPalette 1\tPalette 2\tPalette 3\tPalette 4\tPalette 5\tNotes\n",
    "2023-03-15\thive_0315.jpg\t#f1c232\t#f1c232\t#e69138\t#783f04\t#fff2cc\t#6aa84f\t\"early spring\"\n",
    "2023-05-22\thive_summer.jpg\t#ffd966\t#ffd966\t#f6b26b\t#cc0000\t#6aa84f\t#38761d\t\"robbing signs\" \n"
   ]
  },
  {
   "cell_type": "code",
   "execution_count": 21,
   "id": "c01f1ff7",
   "metadata": {},
   "outputs": [
    {
     "name": "stdout",
     "output_type": "stream",
     "text": [
      "Saved color info for my_hive_photo.jpg to hive_color_log.csv\n"
     ]
    }
   ],
   "source": [
    "save_color_log(file_path, palette, dominant_color, \"2023 may showing puffy eggs maybe drones\" )\n"
   ]
  },
  {
   "cell_type": "markdown",
   "id": "69ec45a7",
   "metadata": {},
   "source": [
    "## 📸 EXIF Metadata You Can Automatically Extract\n",
    "\n",
    "These are stored by most cameras and smartphones. Using Pillow or exifread, you can access:\n",
    "\n",
    "Category\t(Example Fields)\t--  *Why It’s Interesting*  \n",
    "**Time**\t(e.g. DateTimeOriginal, SubSecTimeOriginal) --\tTrack daily rhythms or seasonal changes  \n",
    "**Camera Info** \t(e.g. Model, Make, ExposureTime, FNumber, ISO) --\tHelps explain visual differences  \n",
    "**GPS**\t(e.g. GPSLatitude, GPSLongitude) -- \tLink images to field locations (can be mapped)  \n",
    "**Orientation**\t(e.g. Orientation, ImageWidth, ImageHeight) --\tUseful for filtering or cropping workflows  \n"
   ]
  },
  {
   "cell_type": "code",
   "execution_count": 30,
   "id": "4415ca9f",
   "metadata": {},
   "outputs": [
    {
     "data": {
      "text/plain": [
       "{'Orientation': 1,\n",
       " 'PhotometricInterpretation': 2,\n",
       " 'ResolutionUnit': 2,\n",
       " 'ExifOffset': 102,\n",
       " 'XResolution': 72.0,\n",
       " 'YResolution': 72.0,\n",
       " 'ColorSpace': 1,\n",
       " 'ExifImageWidth': 1350,\n",
       " 'ExifImageHeight': 954}"
      ]
     },
     "execution_count": 30,
     "metadata": {},
     "output_type": "execute_result"
    }
   ],
   "source": [
    "FILEPATH = \"default_beepic.jpg\"\n",
    "exif = extract_exif(FILEPATH)\n",
    "exif"
   ]
  },
  {
   "cell_type": "code",
   "execution_count": 39,
   "id": "51e69b62",
   "metadata": {},
   "outputs": [],
   "source": [
    "date_taken = exif.get(\"DateTimeOriginal\")\n",
    "date_source = \"EXIF\"\n",
    "if not date_taken:\n",
    "    date_taken = get_file_creation_date(FILEPATH)\n",
    "    date_source = \"File Creation Date\"\n",
    "\n",
    "camera_model = exif.get(\"Model\", \"Unknown\")\n",
    "\n",
    "# Extract color palette and show swatches\n",
    "palette_rgb = get_palette(\"default_beepic.jpg\", color_count=6)\n",
    "palette_hex = [rgb_to_hex(c) for c in palette_rgb]\n",
    "\n",
    "# Get image resolution\n",
    "img = Image.open(FILEPATH)\n",
    "image_resolution = f\"{img.width} x {img.height}\""
   ]
  },
  {
   "cell_type": "code",
   "execution_count": 41,
   "id": "21070221",
   "metadata": {},
   "outputs": [
    {
     "ename": "NameError",
     "evalue": "name 'disp' is not defined",
     "output_type": "error",
     "traceback": [
      "\u001b[31m---------------------------------------------------------------------------\u001b[39m",
      "\u001b[31mNameError\u001b[39m                                 Traceback (most recent call last)",
      "\u001b[36mCell\u001b[39m\u001b[36m \u001b[39m\u001b[32mIn[41]\u001b[39m\u001b[32m, line 1\u001b[39m\n\u001b[32m----> \u001b[39m\u001b[32m1\u001b[39m \u001b[43mdisp\u001b[49m(image_resolution)\n",
      "\u001b[31mNameError\u001b[39m: name 'disp' is not defined"
     ]
    }
   ],
   "source": [
    "\n",
    "print(date_source)\n",
    "print(date_taken)\n",
    "print(camera_model)\n",
    "print(image_resolution)"
   ]
  },
  {
   "cell_type": "code",
   "execution_count": null,
   "id": "8461f517",
   "metadata": {},
   "outputs": [],
   "source": []
  },
  {
   "cell_type": "markdown",
   "id": "945b27b9",
   "metadata": {},
   "source": [
    "## ✍️ 2. Manual Metadata You Might Want to Add (User Annotation)\n",
    "\n",
    "Think of this as building your own beekeeping journal in structured form.\n",
    "\n",
    "Field \tDTYPE: Type --\tExample  \n",
    "**Season or Bloom Phase**\tDTYPE: Dropdown or tags\t--\t\"Goldenrod\", \"Early Spring\", \"Fall Dearth\"  \n",
    "**Weather Conditions**\tDTYPE: Text or dropdown\t--\t\"Overcast\", \"Sunny, 85°F\", \"Storm incoming\"  \n",
    "**Hive Notes**\tDTYPE: Text\t\"Queen was replaced\", \"Strong foraging\"  \n",
    "**Camera Setup**\tDTYPE: Tags or preset\t--\t\"Macro lens\", \"Trail camera\", \"iPhone back cam\"  \n",
    "**Hive Behavior**\tDTYPE: Tags\t--\t\"Robbing\", \"Orientation flight\", \"Guarding\"  \n"
   ]
  },
  {
   "cell_type": "code",
   "execution_count": 44,
   "id": "9130e375",
   "metadata": {},
   "outputs": [],
   "source": [
    "import requests\n",
    "from datetime import datetime\n",
    "\n",
    "def get_weather_open_meteo(lat, lon, dt):\n",
    "    \"\"\"\n",
    "    Retrieve historical weather data for a specific datetime and location using Open-Meteo API.\n",
    "\n",
    "    Parameters:\n",
    "        lat (float): Latitude of the location\n",
    "        lon (float): Longitude of the location\n",
    "        dt (datetime): Datetime object for which to retrieve weather info\n",
    "\n",
    "    Returns:\n",
    "        dict: Weather data for the hour closest to the given time, including:\n",
    "              - temperature_C\n",
    "              - precipitation_mm\n",
    "              - cloud_cover_percent\n",
    "              - wind_speed_10m_kph\n",
    "              - weather_code\n",
    "              - datetime_used (for reference)\n",
    "    \"\"\"\n",
    "    # Format the date as required by the API\n",
    "    date_str = dt.strftime(\"%Y-%m-%d\")\n",
    "    hour = dt.hour\n",
    "\n",
    "    # Build request parameters\n",
    "    endpoint = \"https://archive-api.open-meteo.com/v1/archive\"\n",
    "    params = {\n",
    "        \"latitude\": lat,\n",
    "        \"longitude\": lon,\n",
    "        \"start_date\": date_str,\n",
    "        \"end_date\": date_str,\n",
    "        \"hourly\": \"temperature_2m,precipitation,cloudcover,windspeed_10m,weathercode\",\n",
    "        \"timezone\": \"auto\"\n",
    "    }\n",
    "\n",
    "    # Send the request\n",
    "    response = requests.get(endpoint, params=params)\n",
    "    response.raise_for_status()\n",
    "    data = response.json()[\"hourly\"]\n",
    "\n",
    "    # Parse timestamps and find closest hour\n",
    "    times = [datetime.fromisoformat(t) for t in data[\"time\"]]\n",
    "    closest_index = min(range(len(times)), key=lambda i: abs(times[i].hour - hour))\n",
    "\n",
    "    # Extract weather details at closest hour\n",
    "    weather_info = {\n",
    "        \"datetime_used\": str(times[closest_index]),\n",
    "        \"temperature_C\": data[\"temperature_2m\"][closest_index],\n",
    "        \"precipitation_mm\": data[\"precipitation\"][closest_index],\n",
    "        \"cloud_cover_percent\": data[\"cloudcover\"][closest_index],\n",
    "        \"wind_speed_10m_kph\": data[\"windspeed_10m\"][closest_index],\n",
    "        \"weather_code\": data[\"weathercode\"][closest_index]\n",
    "    }\n",
    "\n",
    "    return weather_info\n"
   ]
  },
  {
   "cell_type": "code",
   "execution_count": 46,
   "id": "324f1cd6",
   "metadata": {},
   "outputs": [
    {
     "name": "stdout",
     "output_type": "stream",
     "text": [
      "{'datetime_used': '2023-07-10 14:00:00', 'temperature_C': 35.8, 'precipitation_mm': 0.0, 'cloud_cover_percent': 100, 'wind_speed_10m_kph': 15.6, 'weather_code': 3}\n"
     ]
    }
   ],
   "source": [
    "# Example usage\n",
    "dt = datetime(2023, 7, 10, 14)  # July 10, 2023 at 2:00 PM\n",
    "lat, lon = 30.2672, -97.7431    # Austin, TX\n",
    "\n",
    "weather = get_weather_open_meteo(lat, lon, dt)\n",
    "print(weather)\n",
    "\n"
   ]
  },
  {
   "cell_type": "code",
   "execution_count": null,
   "id": "20f628a3",
   "metadata": {},
   "outputs": [],
   "source": []
  },
  {
   "cell_type": "markdown",
   "id": "70aea865",
   "metadata": {},
   "source": [
    "## 🤖 3. Derived Metadata from Processing (Enrichment)\n",
    "\n",
    "You can extract this programmatically, and it gives you data about the image contents.\n",
    "\n",
    "Source\t(Field)\t-- Example  \n",
    "**Color Extraction**\t(dominant_color, palette_hex[]) --\t\"#f5c542\", \"#8a6e3f\", etc.  \n",
    "**Vision API**\t(labels, objects, confidence[]) --\t\"bee\", \"insect\", \"honeycomb\"  \n",
    "**ML Classifier**\t(hive_state, activity_level) --\t\"calm\", \"busy\", \"warning\"  \n",
    "**Image Quality**\t(brightness, contrast, entropy) --\tCould filter or score photos  \n"
   ]
  },
  {
   "cell_type": "code",
   "execution_count": null,
   "id": "b037d0f8",
   "metadata": {},
   "outputs": [],
   "source": []
  },
  {
   "cell_type": "code",
   "execution_count": null,
   "id": "22637d5d",
   "metadata": {},
   "outputs": [],
   "source": []
  },
  {
   "cell_type": "code",
   "execution_count": null,
   "id": "22008ebd",
   "metadata": {},
   "outputs": [],
   "source": []
  },
  {
   "cell_type": "code",
   "execution_count": null,
   "id": "3fde706e",
   "metadata": {},
   "outputs": [],
   "source": []
  },
  {
   "cell_type": "code",
   "execution_count": null,
   "id": "c014ae8a",
   "metadata": {},
   "outputs": [],
   "source": []
  }
 ],
 "metadata": {
  "kernelspec": {
   "display_name": "env for bee projects",
   "language": "python",
   "name": ".env"
  },
  "language_info": {
   "codemirror_mode": {
    "name": "ipython",
    "version": 3
   },
   "file_extension": ".py",
   "mimetype": "text/x-python",
   "name": "python",
   "nbconvert_exporter": "python",
   "pygments_lexer": "ipython3",
   "version": "3.11.5"
  },
  "toc": {
   "base_numbering": 1,
   "nav_menu": {},
   "number_sections": true,
   "sideBar": true,
   "skip_h1_title": false,
   "title_cell": "Table of Contents",
   "title_sidebar": "Contents",
   "toc_cell": false,
   "toc_position": {},
   "toc_section_display": true,
   "toc_window_display": false
  }
 },
 "nbformat": 4,
 "nbformat_minor": 5
}
